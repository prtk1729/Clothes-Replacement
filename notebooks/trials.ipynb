{
 "cells": [
  {
   "cell_type": "code",
   "execution_count": null,
   "metadata": {},
   "outputs": [],
   "source": [
    "from diffusers import EulerDiscreteScheduler # to load the pretrained scheduler for denoising\n",
    "from diffusers import StableDiffusionInpaintPipeline # load the pretrained SD model for inpainting task\n",
    "import torch\n",
    "model_dir = \"stabilityai/stable-diffusion-2-inpainting\"\n",
    "\n",
    "# load the scheduler\n",
    "scheduler = EulerDiscreteScheduler.from_pretrained( pretrained_model_name_or_path=model_dir, \\\n",
    "                                                    subfolder = \"scheduler\" ) \n",
    "# print( type(scheduler) )\n",
    "\n",
    "# load the pipeline and set the scheduler\n",
    "pipeline = StableDiffusionInpaintPipeline.from_pretrained( pretrained_model_name_or_path = model_dir,\n",
    "                                                            scheduler = scheduler,\n",
    "                                                            revision = \"fp16\", # for memory issues\n",
    "                                                            torch_dtype = torch.float16\n",
    "                                                            )\n",
    "pipeline.to(DEVICE)\n"
   ]
  }
 ],
 "metadata": {
  "kernelspec": {
   "display_name": "base",
   "language": "python",
   "name": "python3"
  },
  "language_info": {
   "name": "python",
   "version": "3.12.4"
  }
 },
 "nbformat": 4,
 "nbformat_minor": 2
}
